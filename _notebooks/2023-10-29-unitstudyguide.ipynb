{
 "cells": [
  {
   "cell_type": "markdown",
   "metadata": {},
   "source": [
    "---\n",
    "layout: post\n",
    "title: College Board Unit 1-10 Study Guide\n",
    "courses: { csa: {week: 16} }\n",
    "type: tangibles\n",
    "toc: true\n",
    "comments: true\n",
    "---"
   ]
  },
  {
   "cell_type": "markdown",
   "metadata": {},
   "source": [
    " <h1>Unit 1 - Types</h1>\n",
    "\n",
    "<h3>Variables</h3>\n",
    "\n",
    "- Use camel case (likeThis)\n",
    "\n",
    "- Don't start with a number\n",
    "\n",
    "- Spaces are not allowed.\n",
    "\n",
    "<h3>Primitive data</h3> \n",
    "\n",
    "- determines ***the size and type of information***\n",
    "\n",
    "- Most simple type of variable"
   ]
  },
  {
   "cell_type": "code",
   "execution_count": null,
   "metadata": {
    "vscode": {
     "languageId": "java"
    }
   },
   "outputs": [],
   "source": [
    "// NEED TO KNOW FOR COLLEGE BOARD\n",
    "boolean primitive3 = true; //Stores a true of false binary value\n",
    "int primitive1 = 0; //Whole number\n",
    "double primitive2 = 1.1; //Decimal values. Floating point numbers.\n",
    "char primitive4 = 'a'; //Single character"
   ]
  },
  {
   "cell_type": "markdown",
   "metadata": {},
   "source": [
    "<h3>Reference Types</h3>\n",
    "\n",
    "- Some data types, like String, start with a capital letter"
   ]
  },
  {
   "cell_type": "code",
   "execution_count": null,
   "metadata": {
    "vscode": {
     "languageId": "java"
    }
   },
   "outputs": [],
   "source": [
    "int integer = 7120; //\"int\" starts with a lowercase\n",
    "String string = \"abc\"; //\"String\" starts with an uppercase, because it is an object and not a primitive type"
   ]
  },
  {
   "cell_type": "markdown",
   "metadata": {},
   "source": [
    "<h3>Important Operators </h3>\n",
    "\n",
    "| Operator | Example Equation | Output | Use |\n",
    "|----------|------------------|--------|------------|\n",
    "| +        | 5 + 3            | 8      | Add numbers together. |\n",
    "| -        | 5 - 3            | 2      | Subtract one number from another. |\n",
    "| *        | 5 * 3            | 15     | Multiply numbers together. |\n",
    "| /        | 5 / 3            | 1      | Divide one number by another. |\n",
    "| /        | 5 / 3.0          | 1.67   | Divide one integer by a double | \n",
    "| %        | 5 % 3            | 2      | Find the remainder of a division operation. |"
   ]
  },
  {
   "cell_type": "markdown",
   "metadata": {},
   "source": [
    "<h3> Wrapper Class </h3>\n",
    "\n",
    "- Class which 'wraps' the primitive type and makes it into an object rather than primitive\n",
    "\n",
    "- Examples: \n",
    "    - **ArrayLists or HashMaps**\n",
    "    - If you require nullability (meaning the value could be null)\n",
    "    - Generics\n",
    "    - Methods that require objects as input"
   ]
  },
  {
   "cell_type": "code",
   "execution_count": null,
   "metadata": {
    "vscode": {
     "languageId": "java"
    }
   },
   "outputs": [],
   "source": [
    "public class Wrappers {\n",
    "    Integer ageWrapper = 17;\n",
    "    int age = Integer.parseInt(\"17\");\n",
    "    String gpaString = \"3.9\";\n",
    "    double gpaDouble = Double.parseDouble(gpaString);\n",
    "\n",
    "    public static void main(String[] args) {\n",
    "        Wrappers wrapper = new Wrappers();\n",
    "        System.out.println(wrapper.ageWrapper);\n",
    "        System.out.println(wrapper.age);\n",
    "        System.out.println(wrapper.gpaDouble);\n",
    "    }\n",
    "}\n",
    "Wrappers.main(null);\n",
    "\n",
    "int a = 4;\n",
    "System.out.println(a + 2 / 1.2);\n",
    "\n",
    "double roundMe = 4.7;\n",
    "int roundedNumber = (int) Math.ceil(roundMe);\n",
    "System.out.println(roundedNumber);"
   ]
  },
  {
   "cell_type": "markdown",
   "metadata": {},
   "source": [
    "<h3> Enums </h3>\n",
    "\n",
    "- Type of data which allows a variable to be a predetermined set of values\n",
    "- Examples: days of the week\n",
    "- Thinks you can do: ordinal, switch, for loops"
   ]
  },
  {
   "cell_type": "markdown",
   "metadata": {},
   "source": [
    "<h1>Unit 2 - Using Objects </h1>\n",
    "\n",
    "<h3>Utility Classes</h3>\n",
    "\n",
    "- Contain static methods that provide common utility functions\n",
    "\n",
    "- NOT meant to be instantiated, and they often involve operations such as mathematical calculations, string manipulation, or date formatting\n",
    "\n",
    "- Ex. Math class \n",
    "\n",
    "<h3> String Methods </h3>\n",
    "\n",
    "|Syntax|Definition|\n",
    "|-|-|\n",
    "|String(String str)|Constructs a new String object with the same sequence of characters as str|\n",
    "|int length()|Returns the number of characters in the String|\n",
    "|String substring(int from, in to)|Returns the substring beginning at from to one before to|\n",
    "|String substring(int from)|Returns the substring beginning at from to the end|\n",
    "|int indexOf(String str)|Returns the first occurence of str, returns -1 if not found|\n",
    "|boolean equals(String other)|Returns true if this is equal to other and vice versa|\n",
    "|int compareTo(String other)|Returns a value <0 if this is less than other, 0 if they are equal and a value >- if this is greater than other|\n",
    "\n",
    "<h3> Autoboxing and Unboxing </h3>\n",
    "\n",
    "- Automatic process that Java compiler uses to convert primitive types and their respective Wrapper classes\n",
    "- Unboxing is the opposite, comverting Wrapper classes to primitive types"
   ]
  },
  {
   "cell_type": "markdown",
   "metadata": {},
   "source": [
    "<h1>Unit 3 - Boolean Expressions and if Statements</h1>\n",
    "\n",
    "<h3>Comparison Operators</h3>\n",
    "\n",
    "- Set to true or false --> = or != NOT ==\n",
    "- Of you are ever trying to compare String objects, use the String methods such as `.equals` or `.compareTo`, NOT the Boolean expressions mentioned above. \n"
   ]
  },
  {
   "cell_type": "code",
   "execution_count": null,
   "metadata": {
    "vscode": {
     "languageId": "java"
    }
   },
   "outputs": [],
   "source": [
    "int arr1[] = { 1, 2, 3 };\n",
    "int arr2[] = { 1, 2, 3 };\n",
    "\n",
    "if (Arrays.equals(arr1, arr2)){\n",
    "\n",
    "    System.out.println(\"Same\");\n",
    "}\n",
    "else {\n",
    "\n",
    "\n",
    "    System.out.println(\"Not same\");\n",
    "}\n"
   ]
  },
  {
   "cell_type": "markdown",
   "metadata": {},
   "source": [
    "<h3>Comparing two arrays</h3>\n",
    "\n",
    "- use equals method"
   ]
  },
  {
   "cell_type": "markdown",
   "metadata": {},
   "source": [
    "<h1>Unit 4 - Iterations </h1>\n",
    "\n",
    "<h3>for Loops vs. while Loops</h3>\n",
    "\n",
    "- while Loops: use when number of iterations is unknown\n",
    "\n",
    "- for Loops: use when number of iterations is known\n",
    "\n",
    "<h3>Increment or Decrement Syntax </h3>\n",
    "\n",
    "|Operator | Example | Same As |\n",
    "|----|--------|-----------|\n",
    "| ++ |  i ++  | i = i + 1 |\n",
    "| -- |  i --  | i = i - 1 |\n",
    "| += | i += y | i = i + y |\n",
    "| -= | i -= y | i = i - y |\n",
    "| *= | i *= y | i = i * y |\n",
    "| /= | i /= y | i = i / y |\n",
    "| %= | i %= y | i = i % y |\n",
    "\n",
    "<h3> Helpful string methods </h3>\n",
    "\n",
    "* ```String .substring``` --> retrieves portion of a string\n",
    "* ```String .equals``` --> compares two strings\n",
    "* ```String .length``` --> returns length of a string\n",
    "* ```for Loop``` --> iterating through characters of a string\n",
    "\n",
    "<h3> Informal Runtime Analysis </h3>\n",
    "\n",
    "- A statement execution count indicates the number of times a statement is executed by the program"
   ]
  },
  {
   "cell_type": "markdown",
   "metadata": {},
   "source": [
    "<h1>Unit 5 - Classes</h1>\n",
    "\n",
    "Anatomy\n",
    "![](https://i.imgur.com/Hw4X7kt.jpg)\n"
   ]
  },
  {
   "cell_type": "code",
   "execution_count": null,
   "metadata": {
    "vscode": {
     "languageId": "java"
    }
   },
   "outputs": [],
   "source": [
    "// EXAMPLE CLASS\n",
    "public class Snack {\n",
    "    // Instance Variables\n",
    "    private String name;\n",
    "    private int calories;\n",
    "\n",
    "    // Default Constructor\n",
    "    public Snack() {\n",
    "        name = \"\";\n",
    "        calories = 0;\n",
    "    }\n",
    "\n",
    "    // Overloaded Constructor\n",
    "    public Snack (string n, int c) {\n",
    "        name = n;\n",
    "        calories = c;\n",
    "    }\n",
    "\n",
    "    // Accessor method 1\n",
    "    public String getName() {\n",
    "        return name;\n",
    "    }\n",
    "\n",
    "    // Access method 2\n",
    "    public int getCalories() {\n",
    "        return calories;\n",
    "    }\n",
    "\n",
    "    // Mutator method 1\n",
    "    public void setName(String n) {\n",
    "        name = n;\n",
    "    }\n",
    "\n",
    "    // Mutator method 2\n",
    "    public void setCalories(int c) {\n",
    "        calories = c;\n",
    "    }\n",
    "\n",
    "    private boolean canEat() {\n",
    "        return (calories < 150);\n",
    "    }\n",
    "}"
   ]
  },
  {
   "cell_type": "markdown",
   "metadata": {},
   "source": [
    "<h3>private vs public </h3>\n",
    "\n",
    "- public: allows access from classes outside the declaring class (classes, constructors)\n",
    "\n",
    "- private: restricts access to the declaring class (instance variables)\n",
    "\n",
    "methods can be either public or private\n",
    "\n",
    "<h3>Key term: Encapsulation</h3>\n",
    "\n",
    "- A fundmanetal concept of OOP\n",
    "- Wraps the data (variable) and code that acts on the data (methods) in one unit (class)\n",
    "- In AP CSA we do this by:\n",
    "    - Writing a class\n",
    "    - <mark>Declaring the instance variables as private</mark> --> enforce constraints and ensure integrity of data\n",
    "    - Providing accessor (get) methods and modifier (set) methods to view and modify variables outside of the class\n",
    "\n",
    "<h3>Accessor Method </h3>\n",
    "\n",
    "- Allows us to safely access variables without other people being able to. Also called get methods or getters. \n",
    "\n",
    "<h3> Ways to use 'this' keyword </h3>\n",
    "\n",
    "1. **refer to instance variable**  > This will solve the problem of having duplicate variable names. To distinguish the instance and local variables, we use this.variableName for the instance variable and simply variableName for the local variable.\n",
    "\n",
    "2. **parameter** > Sometimes, we can also use the object as a parameter in its own method call to use itself in the method by using objectName.methodName(this).\n",
    "\n",
    "3. **constructor or method call** > Sometimes, we can also use the object as a parameter in its own method call to use itself in the method by using objectName.methodName(this)."
   ]
  },
  {
   "cell_type": "markdown",
   "metadata": {},
   "source": [
    "<h1>Unit 6 - Arrays</h1>\n",
    "\n",
    "\n",
    "- An **array** is a data structure used to implement a collection (list) of primitive or object reference data.\n",
    "\n",
    "- An **element** is a single value in the **array**\n",
    "\n",
    "- The __**index**__ of an **element** is the position of the element in the **array**\n",
    "\n",
    "    - In java, the **first element** of an array is at **index 0**.\n",
    "\n",
    "- The **length** of an **array** is the number of elements in the array.\n",
    "\n",
    "<h3> Enhanced for loop </h3>\n",
    "\n",
    "\n",
    "```js\n",
    "for (type declaration : structure )\n",
    "{\n",
    "    // statement one;\n",
    "    // statement two;\n",
    "    // ...\n",
    "}\n",
    "```"
   ]
  },
  {
   "cell_type": "markdown",
   "metadata": {},
   "source": [
    "<h1>Unit 7 - Intro to ArrayLists</h1>\n",
    "\n",
    "- Unlike arrays, ArrayLists are mutable (can be resized after initialization)\n",
    "\n",
    "\n",
    "Difference between Array and Arraylist:\n",
    "\n",
    "| Array | Arraylist |\n",
    "| - | - |\n",
    "| Fixed length | Resizable length |\n",
    "| Fundamental Java Feature | Part of a Framework |\n",
    "| An object with no methods | A Class with many methods |\n",
    "| Not very flexible | Flexible |\n",
    "| Can store primitives | Cannot store primitives - stores objects instead |\n",
    "\n",
    "<h3>7.2 Arraylist Methods</h3>\n",
    "- add()\n",
    "    - Adding a value to the ArrayList\n",
    "    - Can be used to create an element at a specific index in the ArrayList - when this happens, everything at the positions of index and higher are moved to the right by 1 \n",
    "- get()\n",
    "    - Get the value of an index in the ArrayList\n",
    "- set()\n",
    "    - Change the value at an index in the ArrayList\n",
    "- remove()\n",
    "    - Delete the value at in index in the ArrayList\n",
    "- clear()\n",
    "    - Remove all values in an ArrayList\n",
    "- size()\n",
    "    - Get the length of the ArrayList\n",
    "\n",
    "<h3> Selection sort</h3>\n",
    "\n",
    "- Divides the ArrayList into two \"subarrays,\" the first is sorted and the second is unsorted.\n",
    "- Easy to implement and is useful for sorting through small datasets.\n",
    "\n",
    "<h3> Insertion Sort </h3>\n",
    "\n",
    "- Assume that the first element is already sorted\n",
    "- The second element is then taken and is either inserted before the first element or kept in place to make the first 2 elements sorted\n",
    "- Insertion sort is adaptive as it does not need to perform as many comparisons and swaps as selection sort. If you expect the data to be partially ordered, insertion sort is the better option."
   ]
  },
  {
   "cell_type": "markdown",
   "metadata": {},
   "source": [
    "<h1>Unit 8 - 2D Arrays</h1>\n",
    "\n",
    "![2D Array Image](https://raw.githubusercontent.com/The-Code-Monkeys/Monkeys38/main/images/2dArray.png)\n"
   ]
  },
  {
   "cell_type": "code",
   "execution_count": null,
   "metadata": {
    "vscode": {
     "languageId": "java"
    }
   },
   "outputs": [],
   "source": [
    "// INITIALIZING AND POPULATION IN ONE GO \n",
    "\n",
    "public class Main {\n",
    "    public static void main(String[] args) {\n",
    "        int[][] Array1 = { // 2d Array of integers\n",
    "            {1, 2, 3},\n",
    "            {4, 5, 6},\n",
    "            {7, 8, 9}\n",
    "        };\n",
    "        for (int i = 0; i < Array1.length; i++) { // Loop through the rows\n",
    "            for (int j = 0; j < Array1[i].length; j++) { // Loop through the columns\n",
    "                System.out.print(Array1[i][j] + \" \"); // Print out the element\n",
    "            }\n",
    "            System.out.println(); // Print a new line\n",
    "        }\n",
    "    }\n",
    "}\n",
    "\n",
    "Main.main(null)"
   ]
  },
  {
   "cell_type": "code",
   "execution_count": null,
   "metadata": {
    "vscode": {
     "languageId": "java"
    }
   },
   "outputs": [],
   "source": [
    "// Accessing and updating the values of a 2D array\n",
    "\n",
    "In order to access the value of a 2D array, you must use array indexing notation, which is as follows:\n",
    "\n",
    "```java\n",
    "// Say you have myArray:\n",
    "int[][] myArray = {\n",
    "    {1, 2, 3},\n",
    "    {4, 5, 6},\n",
    "    {7, 8, 9}\n",
    "};\n",
    "\n",
    "// To access the third number of the third column, use array indexing notation:\n",
    "int desiredValue = myArray[2][2]; // REMEMBER BASE 0!\n",
    "\n",
    "// And print the value:\n",
    "System.out.print(desiredValue);\n",
    "```\n",
    "Assign the \"coordinate point\" of the desired value as a variable, using the \"x\" value for row number and \"y\" value for column number."
   ]
  },
  {
   "cell_type": "markdown",
   "metadata": {},
   "source": [
    "- know how to use linear & binary search to iterate through 2D array"
   ]
  }
 ],
 "metadata": {
  "language_info": {
   "name": "python"
  }
 },
 "nbformat": 4,
 "nbformat_minor": 2
}
